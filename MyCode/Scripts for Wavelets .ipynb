{
 "cells": [
  {
   "cell_type": "code",
   "execution_count": 2,
   "metadata": {},
   "outputs": [
    {
     "name": "stderr",
     "output_type": "stream",
     "text": [
      "┌ Warning: PyPlot is using tkagg backend, which is known to cause crashes on MacOS (#410); use the MPLBACKEND environment variable to request a different backend.\n",
      "└ @ PyPlot /Users/shashanksule/.julia/packages/PyPlot/4wzW1/src/init.jl:192\n"
     ]
    }
   ],
   "source": [
    "using LinearAlgebra\n",
    "using PyPlot\n",
    "using Statistics"
   ]
  },
  {
   "cell_type": "code",
   "execution_count": 6,
   "metadata": {},
   "outputs": [
    {
     "name": "stdout",
     "output_type": "stream",
     "text": [
      "\u001b[32m\u001b[1m  Updating\u001b[22m\u001b[39m registry at `~/.julia/registries/General`\n",
      "\u001b[32m\u001b[1m  Updating\u001b[22m\u001b[39m git-repo `https://github.com/JuliaRegistries/General.git`\n",
      "\u001b[2K\u001b[?25h[1mFetching:\u001b[22m\u001b[39m [========================================>]  99.9 %0.0 %\u001b[36m\u001b[1mFetching:\u001b[22m\u001b[39m [======>                                  ]  13.1 %>                             ]  25.4 %>                       ]  40.6 %                ]  59.7 %>            ]  69.4 % [=================================>       ]  81.8 % [==================================>      ]  83.6 % ]  95.9 %6 %\u001b[32m\u001b[1m Resolving\u001b[22m\u001b[39m package versions...\n",
      "\u001b[32m\u001b[1m Installed\u001b[22m\u001b[39m PDMats ──────────── v0.9.11\n",
      "\u001b[32m\u001b[1m Installed\u001b[22m\u001b[39m FixedPointNumbers ─ v0.7.1\n",
      "\u001b[32m\u001b[1m Installed\u001b[22m\u001b[39m QuadGK ──────────── v2.3.1\n",
      "\u001b[32m\u001b[1m Installed\u001b[22m\u001b[39m BinDeps ─────────── v1.0.0\n",
      "\u001b[32m\u001b[1m Installed\u001b[22m\u001b[39m ColorTypes ──────── v0.9.1\n",
      "\u001b[32m\u001b[1m Installed\u001b[22m\u001b[39m MacroTools ──────── v0.5.4\n",
      "\u001b[32m\u001b[1m Installed\u001b[22m\u001b[39m Polynomials ─────── v0.6.1\n",
      "\u001b[32m\u001b[1m Installed\u001b[22m\u001b[39m Wavelets ────────── v0.9.0\n",
      "\u001b[32m\u001b[1m Installed\u001b[22m\u001b[39m Conda ───────────── v1.4.1\n",
      "\u001b[32m\u001b[1m Installed\u001b[22m\u001b[39m Parsers ─────────── v0.3.12\n",
      "\u001b[32m\u001b[1m Installed\u001b[22m\u001b[39m LaTeXStrings ────── v1.1.0\n",
      "\u001b[32m\u001b[1m Installed\u001b[22m\u001b[39m StatsBase ───────── v0.32.1\n",
      "\u001b[32m\u001b[1m Installed\u001b[22m\u001b[39m Arpack ──────────── v0.3.2\n",
      "\u001b[32m\u001b[1m Installed\u001b[22m\u001b[39m VersionParsing ──── v1.2.0\n",
      "\u001b[32m\u001b[1m Installed\u001b[22m\u001b[39m StatsFuns ───────── v0.9.4\n",
      "\u001b[32m\u001b[1m Installed\u001b[22m\u001b[39m ZMQ ─────────────── v1.1.0\n",
      "\u001b[32m\u001b[1m Installed\u001b[22m\u001b[39m Rmath ───────────── v0.6.0\n",
      "\u001b[32m\u001b[1m Installed\u001b[22m\u001b[39m RecipesBase ─────── v0.8.0\n",
      "\u001b[32m\u001b[1m Installed\u001b[22m\u001b[39m DataStructures ──── v0.17.10\n",
      "\u001b[32m\u001b[1m Installed\u001b[22m\u001b[39m IterTools ───────── v1.3.0\n",
      "\u001b[32m\u001b[1m Installed\u001b[22m\u001b[39m DSP ─────────────── v0.6.3\n",
      "\u001b[32m\u001b[1m Installed\u001b[22m\u001b[39m Colors ──────────── v0.11.2\n",
      "\u001b[32m\u001b[1m  Updating\u001b[22m\u001b[39m `~/.julia/environments/v1.2/Project.toml`\n",
      " \u001b[90m [29a6e085]\u001b[39m\u001b[92m + Wavelets v0.9.0\u001b[39m\n",
      "\u001b[32m\u001b[1m  Updating\u001b[22m\u001b[39m `~/.julia/environments/v1.2/Manifest.toml`\n",
      " \u001b[90m [7d9fca2a]\u001b[39m\u001b[93m ↑ Arpack v0.3.1 ⇒ v0.3.2\u001b[39m\n",
      " \u001b[90m [9e28174c]\u001b[39m\u001b[93m ↑ BinDeps v0.8.10 ⇒ v1.0.0\u001b[39m\n",
      " \u001b[90m [3da002f7]\u001b[39m\u001b[93m ↑ ColorTypes v0.8.0 ⇒ v0.9.1\u001b[39m\n",
      " \u001b[90m [5ae59095]\u001b[39m\u001b[93m ↑ Colors v0.9.6 ⇒ v0.11.2\u001b[39m\n",
      " \u001b[90m [34da2185]\u001b[39m\u001b[91m - Compat v2.2.0\u001b[39m\n",
      " \u001b[90m [8f4d0f93]\u001b[39m\u001b[93m ↑ Conda v1.3.0 ⇒ v1.4.1\u001b[39m\n",
      " \u001b[90m [717857b8]\u001b[39m\u001b[92m + DSP v0.6.3\u001b[39m\n",
      " \u001b[90m [864edb3b]\u001b[39m\u001b[93m ↑ DataStructures v0.17.5 ⇒ v0.17.10\u001b[39m\n",
      " \u001b[90m [53c48c17]\u001b[39m\u001b[93m ↑ FixedPointNumbers v0.6.1 ⇒ v0.7.1\u001b[39m\n",
      " \u001b[90m [c8e1da08]\u001b[39m\u001b[92m + IterTools v1.3.0\u001b[39m\n",
      " \u001b[90m [b964fa9f]\u001b[39m\u001b[93m ↑ LaTeXStrings v1.0.3 ⇒ v1.1.0\u001b[39m\n",
      " \u001b[90m [1914dd2f]\u001b[39m\u001b[93m ↑ MacroTools v0.5.2 ⇒ v0.5.4\u001b[39m\n",
      " \u001b[90m [90014a1f]\u001b[39m\u001b[93m ↑ PDMats v0.9.10 ⇒ v0.9.11\u001b[39m\n",
      " \u001b[90m [69de0a69]\u001b[39m\u001b[93m ↑ Parsers v0.3.8 ⇒ v0.3.12\u001b[39m\n",
      " \u001b[90m [f27b6e38]\u001b[39m\u001b[92m + Polynomials v0.6.1\u001b[39m\n",
      " \u001b[90m [1fd47b50]\u001b[39m\u001b[93m ↑ QuadGK v2.1.1 ⇒ v2.3.1\u001b[39m\n",
      " \u001b[90m [3cdcf5f2]\u001b[39m\u001b[92m + RecipesBase v0.8.0\u001b[39m\n",
      " \u001b[90m [79098fc4]\u001b[39m\u001b[93m ↑ Rmath v0.5.1 ⇒ v0.6.0\u001b[39m\n",
      " \u001b[90m [2913bbd2]\u001b[39m\u001b[93m ↑ StatsBase v0.32.0 ⇒ v0.32.1\u001b[39m\n",
      " \u001b[90m [4c63d2b9]\u001b[39m\u001b[93m ↑ StatsFuns v0.9.0 ⇒ v0.9.4\u001b[39m\n",
      " \u001b[90m [81def892]\u001b[39m\u001b[93m ↑ VersionParsing v1.1.3 ⇒ v1.2.0\u001b[39m\n",
      " \u001b[90m [29a6e085]\u001b[39m\u001b[92m + Wavelets v0.9.0\u001b[39m\n",
      " \u001b[90m [c2297ded]\u001b[39m\u001b[93m ↑ ZMQ v1.0.0 ⇒ v1.1.0\u001b[39m\n",
      " \u001b[90m [8bb1440f]\u001b[39m\u001b[91m - DelimitedFiles \u001b[39m\n",
      " \u001b[90m [1a1011a3]\u001b[39m\u001b[91m - SharedArrays \u001b[39m\n",
      "\u001b[32m\u001b[1m  Building\u001b[22m\u001b[39m Conda ─→ `~/.julia/packages/Conda/3rPhK/deps/build.log`\n",
      "\u001b[32m\u001b[1m  Building\u001b[22m\u001b[39m Arpack → `~/.julia/packages/Arpack/zCmTA/deps/build.log`\n",
      "\u001b[32m\u001b[1m  Building\u001b[22m\u001b[39m ZMQ ───→ `~/.julia/packages/ZMQ/ItfqT/deps/build.log`\n",
      "\u001b[32m\u001b[1m  Building\u001b[22m\u001b[39m Rmath ─→ `~/.julia/packages/Rmath/BoBag/deps/build.log`\n"
     ]
    },
    {
     "name": "stderr",
     "output_type": "stream",
     "text": [
      "┌ Info: Precompiling Wavelets [29a6e085-ba6d-5f35-a997-948ac2efa89a]\n",
      "└ @ Base loading.jl:1242\n",
      "ERROR: LoadError: InitError: /Users/shashanksule/.julia/packages/SpecialFunctions/ne2iw/deps/usr/lib/libopenspecfun.1.3.dylib cannot be opened, Please re-run Pkg.build(\"SpecialFunctions\"), and restart Julia.\n",
      "Stacktrace:\n",
      " [1] error(::String) at ./error.jl:33\n",
      " [2] check_deps() at /Users/shashanksule/.julia/packages/SpecialFunctions/ne2iw/deps/deps.jl:20\n",
      " [3] __init__() at /Users/shashanksule/.julia/packages/SpecialFunctions/ne2iw/src/SpecialFunctions.jl:12\n",
      " [4] _include_from_serialized(::String, ::Array{Any,1}) at ./loading.jl:685\n",
      " [5] _require_search_from_serialized(::Base.PkgId, ::String) at ./loading.jl:765\n",
      " [6] _require(::Base.PkgId) at ./loading.jl:990\n",
      " [7] require(::Base.PkgId) at ./loading.jl:911\n",
      " [8] require(::Module, ::Symbol) at ./loading.jl:906\n",
      " [9] include at ./boot.jl:328 [inlined]\n",
      " [10] include_relative(::Module, ::String) at ./loading.jl:1094\n",
      " [11] include(::Module, ::String) at ./Base.jl:31\n",
      " [12] top-level scope at none:2\n",
      " [13] eval at ./boot.jl:330 [inlined]\n",
      " [14] eval(::Expr) at ./client.jl:432\n",
      " [15] top-level scope at ./none:3\n",
      "during initialization of module SpecialFunctions\n",
      "in expression starting at /Users/shashanksule/.julia/packages/Wavelets/BOXYj/src/Wavelets.jl:4\n"
     ]
    },
    {
     "ename": "ErrorException",
     "evalue": "Failed to precompile Wavelets [29a6e085-ba6d-5f35-a997-948ac2efa89a] to /Users/shashanksule/.julia/compiled/v1.2/Wavelets/Wz89q.ji.",
     "output_type": "error",
     "traceback": [
      "Failed to precompile Wavelets [29a6e085-ba6d-5f35-a997-948ac2efa89a] to /Users/shashanksule/.julia/compiled/v1.2/Wavelets/Wz89q.ji.",
      "",
      "Stacktrace:",
      " [1] error(::String) at ./error.jl:33",
      " [2] compilecache(::Base.PkgId, ::String) at ./loading.jl:1253",
      " [3] _require(::Base.PkgId) at ./loading.jl:1013",
      " [4] require(::Base.PkgId) at ./loading.jl:911",
      " [5] require(::Module, ::Symbol) at ./loading.jl:906",
      " [6] top-level scope at In[6]:3"
     ]
    }
   ],
   "source": [
    "using Pkg\n",
    "Pkg.add(\"Wavelets\")\n",
    "using Wavelets"
   ]
  },
  {
   "cell_type": "code",
   "execution_count": 13,
   "metadata": {},
   "outputs": [],
   "source": [
    "t = LinRange(0,1,100);\n",
    "x = sin.(2*pi*t);"
   ]
  },
  {
   "cell_type": "code",
   "execution_count": 21,
   "metadata": {},
   "outputs": [
    {
     "name": "stderr",
     "output_type": "stream",
     "text": [
      "┌ Info: Precompiling Wavelets [29a6e085-ba6d-5f35-a997-948ac2efa89a]\n",
      "└ @ Base loading.jl:1242\n",
      "ERROR: LoadError: InitError: /Users/shashanksule/.julia/packages/SpecialFunctions/ne2iw/deps/usr/lib/libopenspecfun.1.3.dylib cannot be opened, Please re-run Pkg.build(\"SpecialFunctions\"), and restart Julia.\n",
      "Stacktrace:\n",
      " [1] error(::String) at ./error.jl:33\n",
      " [2] check_deps() at /Users/shashanksule/.julia/packages/SpecialFunctions/ne2iw/deps/deps.jl:20\n",
      " [3] __init__() at /Users/shashanksule/.julia/packages/SpecialFunctions/ne2iw/src/SpecialFunctions.jl:12\n",
      " [4] _include_from_serialized(::String, ::Array{Any,1}) at ./loading.jl:685\n",
      " [5] _require_search_from_serialized(::Base.PkgId, ::String) at ./loading.jl:765\n",
      " [6] _require(::Base.PkgId) at ./loading.jl:990\n",
      " [7] require(::Base.PkgId) at ./loading.jl:911\n",
      " [8] require(::Module, ::Symbol) at ./loading.jl:906\n",
      " [9] include at ./boot.jl:328 [inlined]\n",
      " [10] include_relative(::Module, ::String) at ./loading.jl:1094\n",
      " [11] include(::Module, ::String) at ./Base.jl:31\n",
      " [12] top-level scope at none:2\n",
      " [13] eval at ./boot.jl:330 [inlined]\n",
      " [14] eval(::Expr) at ./client.jl:432\n",
      " [15] top-level scope at ./none:3\n",
      "during initialization of module SpecialFunctions\n",
      "in expression starting at /Users/shashanksule/.julia/packages/Wavelets/BOXYj/src/Wavelets.jl:4\n"
     ]
    },
    {
     "ename": "ErrorException",
     "evalue": "Failed to precompile Wavelets [29a6e085-ba6d-5f35-a997-948ac2efa89a] to /Users/shashanksule/.julia/compiled/v1.2/Wavelets/Wz89q.ji.",
     "output_type": "error",
     "traceback": [
      "Failed to precompile Wavelets [29a6e085-ba6d-5f35-a997-948ac2efa89a] to /Users/shashanksule/.julia/compiled/v1.2/Wavelets/Wz89q.ji.",
      "",
      "Stacktrace:",
      " [1] error(::String) at ./error.jl:33",
      " [2] compilecache(::Base.PkgId, ::String) at ./loading.jl:1253",
      " [3] _require(::Base.PkgId) at ./loading.jl:1013",
      " [4] require(::Base.PkgId) at ./loading.jl:911",
      " [5] require(::Module, ::Symbol) at ./loading.jl:906",
      " [6] top-level scope at In[21]:1"
     ]
    }
   ],
   "source": [
    "using Wavelets"
   ]
  },
  {
   "cell_type": "code",
   "execution_count": null,
   "metadata": {},
   "outputs": [],
   "source": []
  }
 ],
 "metadata": {
  "kernelspec": {
   "display_name": "Julia 1.2.0",
   "language": "julia",
   "name": "julia-1.2"
  },
  "language_info": {
   "file_extension": ".jl",
   "mimetype": "application/julia",
   "name": "julia",
   "version": "1.2.0"
  }
 },
 "nbformat": 4,
 "nbformat_minor": 2
}
